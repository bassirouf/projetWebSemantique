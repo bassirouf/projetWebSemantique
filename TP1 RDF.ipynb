{
 "cells": [
  {
   "cell_type": "markdown",
   "id": "108837de",
   "metadata": {},
   "source": [
    "# Environnement\n",
    "- Installer rdflib (https://rdflib.readthedocs.io/en/stable/)\n",
    "- Visualisation : Maptolib et networkx (https://networkx.org/documentation/stable/tutorial.html)"
   ]
  },
  {
   "cell_type": "raw",
   "id": "8ba75063",
   "metadata": {},
   "source": [
    "pip install rdflib networkx matplotlib"
   ]
  },
  {
   "metadata": {
    "ExecuteTime": {
     "end_time": "2024-12-24T15:11:17.772956Z",
     "start_time": "2024-12-24T15:11:11.393393Z"
    }
   },
   "cell_type": "code",
   "source": "!pip install rdflib networkx matplotlib",
   "id": "acf229c2afa51f13",
   "outputs": [
    {
     "name": "stdout",
     "output_type": "stream",
     "text": [
      "Requirement already satisfied: rdflib in c:\\users\\fatou\\appdata\\local\\packages\\pythonsoftwarefoundation.python.3.11_qbz5n2kfra8p0\\localcache\\local-packages\\python311\\site-packages (7.1.1)\n",
      "Requirement already satisfied: networkx in c:\\users\\fatou\\appdata\\local\\packages\\pythonsoftwarefoundation.python.3.11_qbz5n2kfra8p0\\localcache\\local-packages\\python311\\site-packages (3.4.2)\n",
      "Requirement already satisfied: matplotlib in c:\\users\\fatou\\appdata\\local\\packages\\pythonsoftwarefoundation.python.3.11_qbz5n2kfra8p0\\localcache\\local-packages\\python311\\site-packages (3.10.0)\n",
      "Requirement already satisfied: pyparsing<4,>=2.1.0 in c:\\users\\fatou\\appdata\\local\\packages\\pythonsoftwarefoundation.python.3.11_qbz5n2kfra8p0\\localcache\\local-packages\\python311\\site-packages (from rdflib) (3.2.0)\n",
      "Requirement already satisfied: contourpy>=1.0.1 in c:\\users\\fatou\\appdata\\local\\packages\\pythonsoftwarefoundation.python.3.11_qbz5n2kfra8p0\\localcache\\local-packages\\python311\\site-packages (from matplotlib) (1.3.1)\n",
      "Requirement already satisfied: cycler>=0.10 in c:\\users\\fatou\\appdata\\local\\packages\\pythonsoftwarefoundation.python.3.11_qbz5n2kfra8p0\\localcache\\local-packages\\python311\\site-packages (from matplotlib) (0.12.1)\n",
      "Requirement already satisfied: fonttools>=4.22.0 in c:\\users\\fatou\\appdata\\local\\packages\\pythonsoftwarefoundation.python.3.11_qbz5n2kfra8p0\\localcache\\local-packages\\python311\\site-packages (from matplotlib) (4.55.3)\n",
      "Requirement already satisfied: kiwisolver>=1.3.1 in c:\\users\\fatou\\appdata\\local\\packages\\pythonsoftwarefoundation.python.3.11_qbz5n2kfra8p0\\localcache\\local-packages\\python311\\site-packages (from matplotlib) (1.4.7)\n",
      "Requirement already satisfied: numpy>=1.23 in c:\\users\\fatou\\appdata\\local\\packages\\pythonsoftwarefoundation.python.3.11_qbz5n2kfra8p0\\localcache\\local-packages\\python311\\site-packages (from matplotlib) (2.2.0)\n",
      "Requirement already satisfied: packaging>=20.0 in c:\\users\\fatou\\appdata\\local\\packages\\pythonsoftwarefoundation.python.3.11_qbz5n2kfra8p0\\localcache\\local-packages\\python311\\site-packages (from matplotlib) (24.2)\n",
      "Requirement already satisfied: pillow>=8 in c:\\users\\fatou\\appdata\\local\\packages\\pythonsoftwarefoundation.python.3.11_qbz5n2kfra8p0\\localcache\\local-packages\\python311\\site-packages (from matplotlib) (11.0.0)\n",
      "Requirement already satisfied: python-dateutil>=2.7 in c:\\users\\fatou\\appdata\\local\\packages\\pythonsoftwarefoundation.python.3.11_qbz5n2kfra8p0\\localcache\\local-packages\\python311\\site-packages (from matplotlib) (2.9.0.post0)\n",
      "Requirement already satisfied: six>=1.5 in c:\\users\\fatou\\appdata\\local\\packages\\pythonsoftwarefoundation.python.3.11_qbz5n2kfra8p0\\localcache\\local-packages\\python311\\site-packages (from python-dateutil>=2.7->matplotlib) (1.17.0)\n"
     ]
    }
   ],
   "execution_count": 1
  },
  {
   "cell_type": "markdown",
   "id": "2ee449fb",
   "metadata": {},
   "source": [
    "## Exercice 1 : RDF/XML"
   ]
  },
  {
   "cell_type": "markdown",
   "id": "d8e94488",
   "metadata": {},
   "source": [
    "- Créer un fichier RDF ayant le contenu suivant :"
   ]
  },
  {
   "cell_type": "raw",
   "id": "476c2c18",
   "metadata": {},
   "source": [
    "<rdf:RDF xmlns:ex=\"http://example.org/stuff/1.0/\">\n",
    "<rdf:Description rdf:about=\"http://www.example.org/serie.html\">\n",
    "<ex:theme>Series</ex:theme>\n",
    "<ex:acteur>\n",
    "    <ex:nom> Wilson</ex:nom>\n",
    "    <ex:prenom> Wade </ex:prenom>\n",
    "</ex:acteur>\n",
    "<ex:tomes>\n",
    "<ex:duree>2H</ex:duree>\n",
    "    <rdf:Bag>\n",
    "      <rdf:_1>Dead Pool President</rdf:_1>\n",
    "      <rdf:_2>Les Morts aux trousses</rdf:_2>\n",
    "      <rdf:_3>La Glaire des étoiles</rdf:_3>\n",
    "      <rdf:_4>Un ami dans le besoin</rdf:_4>\n",
    "    </rdf:Bag>\n",
    "</ex:tomes>\n",
    "</rdf:RDF>"
   ]
  },
  {
   "cell_type": "markdown",
   "id": "4fbe4b97",
   "metadata": {},
   "source": [
    "- Parser le fichier avec rdflib"
   ]
  },
  {
   "cell_type": "raw",
   "id": "50defbb3",
   "metadata": {},
   "source": [
    "from rdflib import Graph\n",
    "\n",
    "# Création du graphe RDF\n",
    "g = Graph()\n",
    "\n",
    "# Parsing\n",
    "rdf_file = \"exemple.rdf\"  \n",
    "g.parse(rdf_file, format=\"xml\")"
   ]
  },
  {
   "cell_type": "markdown",
   "id": "59bf0e32",
   "metadata": {},
   "source": [
    "- Corriger les erreurs "
   ]
  },
  {
   "cell_type": "code",
   "id": "c13a1846",
   "metadata": {
    "ExecuteTime": {
     "end_time": "2024-12-24T15:11:47.427111Z",
     "start_time": "2024-12-24T15:11:46.887889Z"
    }
   },
   "source": [
    "from rdflib import Graph\n",
    "\n",
    "# Création du graphe RDF\n",
    "g = Graph()\n",
    "\n",
    "# Parsing\n",
    "rdf_file = \"exemple.rdf\"\n",
    "g.parse(rdf_file, format=\"xml\")"
   ],
   "outputs": [
    {
     "data": {
      "text/plain": [
       "<Graph identifier=Nbab9d8c2ef2f47ec88094eb69e20ab85 (<class 'rdflib.graph.Graph'>)>"
      ]
     },
     "execution_count": 2,
     "metadata": {},
     "output_type": "execute_result"
    }
   ],
   "execution_count": 2
  },
  {
   "cell_type": "markdown",
   "id": "42eafaca",
   "metadata": {},
   "source": [
    "- Visualiser le graphe en utilisant la bibliothèque networkxs"
   ]
  },
  {
   "metadata": {
    "ExecuteTime": {
     "end_time": "2024-12-24T21:27:32.924882Z",
     "start_time": "2024-12-24T21:27:28.569266Z"
    }
   },
   "cell_type": "code",
   "source": [
    "!pip install matplotlib\n",
    "!pip install networkx\n",
    "\n",
    "import networkx as nx\n",
    "import matplotlib.pyplot as plt\n",
    "\n",
    "# Créer un graphe networkx\n",
    "G = nx.Graph()\n",
    "\n",
    "# Parcours des triples RDF et ajout des nœuds et des arêtes au graphe networkx\n",
    "for subject, predicate, obj in g:\n",
    "    G.add_node(subject)\n",
    "    G.add_node(obj)\n",
    "    G.add_edge(subject, obj)\n",
    "\n",
    "# Visualisation du graphe\n",
    "pos = nx.spring_layout(G)\n",
    "nx.draw(G, pos, with_labels=True, node_size=500, node_color='yellow', font_size=10, font_weight='bold')\n",
    "plt.show()"
   ],
   "id": "83a56d2f7a170b31",
   "outputs": [
    {
     "name": "stdout",
     "output_type": "stream",
     "text": [
      "Requirement already satisfied: matplotlib in c:\\users\\fatou\\appdata\\local\\packages\\pythonsoftwarefoundation.python.3.11_qbz5n2kfra8p0\\localcache\\local-packages\\python311\\site-packages (3.10.0)\n",
      "Requirement already satisfied: contourpy>=1.0.1 in c:\\users\\fatou\\appdata\\local\\packages\\pythonsoftwarefoundation.python.3.11_qbz5n2kfra8p0\\localcache\\local-packages\\python311\\site-packages (from matplotlib) (1.3.1)\n",
      "Requirement already satisfied: cycler>=0.10 in c:\\users\\fatou\\appdata\\local\\packages\\pythonsoftwarefoundation.python.3.11_qbz5n2kfra8p0\\localcache\\local-packages\\python311\\site-packages (from matplotlib) (0.12.1)\n",
      "Requirement already satisfied: fonttools>=4.22.0 in c:\\users\\fatou\\appdata\\local\\packages\\pythonsoftwarefoundation.python.3.11_qbz5n2kfra8p0\\localcache\\local-packages\\python311\\site-packages (from matplotlib) (4.55.3)\n",
      "Requirement already satisfied: kiwisolver>=1.3.1 in c:\\users\\fatou\\appdata\\local\\packages\\pythonsoftwarefoundation.python.3.11_qbz5n2kfra8p0\\localcache\\local-packages\\python311\\site-packages (from matplotlib) (1.4.7)\n",
      "Requirement already satisfied: numpy>=1.23 in c:\\users\\fatou\\appdata\\local\\packages\\pythonsoftwarefoundation.python.3.11_qbz5n2kfra8p0\\localcache\\local-packages\\python311\\site-packages (from matplotlib) (2.2.0)\n",
      "Requirement already satisfied: packaging>=20.0 in c:\\users\\fatou\\appdata\\local\\packages\\pythonsoftwarefoundation.python.3.11_qbz5n2kfra8p0\\localcache\\local-packages\\python311\\site-packages (from matplotlib) (24.2)\n",
      "Requirement already satisfied: pillow>=8 in c:\\users\\fatou\\appdata\\local\\packages\\pythonsoftwarefoundation.python.3.11_qbz5n2kfra8p0\\localcache\\local-packages\\python311\\site-packages (from matplotlib) (11.0.0)\n",
      "Requirement already satisfied: pyparsing>=2.3.1 in c:\\users\\fatou\\appdata\\local\\packages\\pythonsoftwarefoundation.python.3.11_qbz5n2kfra8p0\\localcache\\local-packages\\python311\\site-packages (from matplotlib) (3.2.0)\n",
      "Requirement already satisfied: python-dateutil>=2.7 in c:\\users\\fatou\\appdata\\local\\packages\\pythonsoftwarefoundation.python.3.11_qbz5n2kfra8p0\\localcache\\local-packages\\python311\\site-packages (from matplotlib) (2.9.0.post0)\n",
      "Requirement already satisfied: six>=1.5 in c:\\users\\fatou\\appdata\\local\\packages\\pythonsoftwarefoundation.python.3.11_qbz5n2kfra8p0\\localcache\\local-packages\\python311\\site-packages (from python-dateutil>=2.7->matplotlib) (1.17.0)\n",
      "Requirement already satisfied: networkx in c:\\users\\fatou\\appdata\\local\\packages\\pythonsoftwarefoundation.python.3.11_qbz5n2kfra8p0\\localcache\\local-packages\\python311\\site-packages (3.4.2)\n"
     ]
    },
    {
     "ename": "ImportError",
     "evalue": "DLL load failed while importing _cext: Le module spécifié est introuvable.",
     "output_type": "error",
     "traceback": [
      "\u001B[1;31m---------------------------------------------------------------------------\u001B[0m",
      "\u001B[1;31mImportError\u001B[0m                               Traceback (most recent call last)",
      "Cell \u001B[1;32mIn[12], line 5\u001B[0m\n\u001B[0;32m      2\u001B[0m get_ipython()\u001B[38;5;241m.\u001B[39msystem(\u001B[38;5;124m'\u001B[39m\u001B[38;5;124mpip install networkx\u001B[39m\u001B[38;5;124m'\u001B[39m)\n\u001B[0;32m      4\u001B[0m \u001B[38;5;28;01mimport\u001B[39;00m \u001B[38;5;21;01mnetworkx\u001B[39;00m \u001B[38;5;28;01mas\u001B[39;00m \u001B[38;5;21;01mnx\u001B[39;00m\n\u001B[1;32m----> 5\u001B[0m \u001B[38;5;28;01mimport\u001B[39;00m \u001B[38;5;21;01mmatplotlib\u001B[39;00m\u001B[38;5;21;01m.\u001B[39;00m\u001B[38;5;21;01mpyplot\u001B[39;00m \u001B[38;5;28;01mas\u001B[39;00m \u001B[38;5;21;01mplt\u001B[39;00m\n\u001B[0;32m      7\u001B[0m \u001B[38;5;66;03m# Créer un graphe networkx\u001B[39;00m\n\u001B[0;32m      8\u001B[0m G \u001B[38;5;241m=\u001B[39m nx\u001B[38;5;241m.\u001B[39mGraph()\n",
      "File \u001B[1;32m~\\AppData\\Local\\Packages\\PythonSoftwareFoundation.Python.3.11_qbz5n2kfra8p0\\LocalCache\\local-packages\\Python311\\site-packages\\matplotlib\\__init__.py:264\u001B[0m\n\u001B[0;32m    259\u001B[0m         \u001B[38;5;28;01mif\u001B[39;00m parse_version(module\u001B[38;5;241m.\u001B[39m__version__) \u001B[38;5;241m<\u001B[39m parse_version(minver):\n\u001B[0;32m    260\u001B[0m             \u001B[38;5;28;01mraise\u001B[39;00m \u001B[38;5;167;01mImportError\u001B[39;00m(\u001B[38;5;124mf\u001B[39m\u001B[38;5;124m\"\u001B[39m\u001B[38;5;124mMatplotlib requires \u001B[39m\u001B[38;5;132;01m{\u001B[39;00mmodname\u001B[38;5;132;01m}\u001B[39;00m\u001B[38;5;124m>=\u001B[39m\u001B[38;5;132;01m{\u001B[39;00mminver\u001B[38;5;132;01m}\u001B[39;00m\u001B[38;5;124m; \u001B[39m\u001B[38;5;124m\"\u001B[39m\n\u001B[0;32m    261\u001B[0m                               \u001B[38;5;124mf\u001B[39m\u001B[38;5;124m\"\u001B[39m\u001B[38;5;124myou have \u001B[39m\u001B[38;5;132;01m{\u001B[39;00mmodule\u001B[38;5;241m.\u001B[39m__version__\u001B[38;5;132;01m}\u001B[39;00m\u001B[38;5;124m\"\u001B[39m)\n\u001B[1;32m--> 264\u001B[0m \u001B[43m_check_versions\u001B[49m\u001B[43m(\u001B[49m\u001B[43m)\u001B[49m\n\u001B[0;32m    267\u001B[0m \u001B[38;5;66;03m# The decorator ensures this always returns the same handler (and it is only\u001B[39;00m\n\u001B[0;32m    268\u001B[0m \u001B[38;5;66;03m# attached once).\u001B[39;00m\n\u001B[0;32m    269\u001B[0m \u001B[38;5;129m@functools\u001B[39m\u001B[38;5;241m.\u001B[39mcache\n\u001B[0;32m    270\u001B[0m \u001B[38;5;28;01mdef\u001B[39;00m \u001B[38;5;21m_ensure_handler\u001B[39m():\n",
      "File \u001B[1;32m~\\AppData\\Local\\Packages\\PythonSoftwareFoundation.Python.3.11_qbz5n2kfra8p0\\LocalCache\\local-packages\\Python311\\site-packages\\matplotlib\\__init__.py:258\u001B[0m, in \u001B[0;36m_check_versions\u001B[1;34m()\u001B[0m\n\u001B[0;32m    249\u001B[0m \u001B[38;5;28;01mfrom\u001B[39;00m \u001B[38;5;21;01m.\u001B[39;00m \u001B[38;5;28;01mimport\u001B[39;00m ft2font  \u001B[38;5;66;03m# noqa: F401\u001B[39;00m\n\u001B[0;32m    251\u001B[0m \u001B[38;5;28;01mfor\u001B[39;00m modname, minver \u001B[38;5;129;01min\u001B[39;00m [\n\u001B[0;32m    252\u001B[0m         (\u001B[38;5;124m\"\u001B[39m\u001B[38;5;124mcycler\u001B[39m\u001B[38;5;124m\"\u001B[39m, \u001B[38;5;124m\"\u001B[39m\u001B[38;5;124m0.10\u001B[39m\u001B[38;5;124m\"\u001B[39m),\n\u001B[0;32m    253\u001B[0m         (\u001B[38;5;124m\"\u001B[39m\u001B[38;5;124mdateutil\u001B[39m\u001B[38;5;124m\"\u001B[39m, \u001B[38;5;124m\"\u001B[39m\u001B[38;5;124m2.7\u001B[39m\u001B[38;5;124m\"\u001B[39m),\n\u001B[1;32m   (...)\u001B[0m\n\u001B[0;32m    256\u001B[0m         (\u001B[38;5;124m\"\u001B[39m\u001B[38;5;124mpyparsing\u001B[39m\u001B[38;5;124m\"\u001B[39m, \u001B[38;5;124m\"\u001B[39m\u001B[38;5;124m2.3.1\u001B[39m\u001B[38;5;124m\"\u001B[39m),\n\u001B[0;32m    257\u001B[0m ]:\n\u001B[1;32m--> 258\u001B[0m     module \u001B[38;5;241m=\u001B[39m \u001B[43mimportlib\u001B[49m\u001B[38;5;241;43m.\u001B[39;49m\u001B[43mimport_module\u001B[49m\u001B[43m(\u001B[49m\u001B[43mmodname\u001B[49m\u001B[43m)\u001B[49m\n\u001B[0;32m    259\u001B[0m     \u001B[38;5;28;01mif\u001B[39;00m parse_version(module\u001B[38;5;241m.\u001B[39m__version__) \u001B[38;5;241m<\u001B[39m parse_version(minver):\n\u001B[0;32m    260\u001B[0m         \u001B[38;5;28;01mraise\u001B[39;00m \u001B[38;5;167;01mImportError\u001B[39;00m(\u001B[38;5;124mf\u001B[39m\u001B[38;5;124m\"\u001B[39m\u001B[38;5;124mMatplotlib requires \u001B[39m\u001B[38;5;132;01m{\u001B[39;00mmodname\u001B[38;5;132;01m}\u001B[39;00m\u001B[38;5;124m>=\u001B[39m\u001B[38;5;132;01m{\u001B[39;00mminver\u001B[38;5;132;01m}\u001B[39;00m\u001B[38;5;124m; \u001B[39m\u001B[38;5;124m\"\u001B[39m\n\u001B[0;32m    261\u001B[0m                           \u001B[38;5;124mf\u001B[39m\u001B[38;5;124m\"\u001B[39m\u001B[38;5;124myou have \u001B[39m\u001B[38;5;132;01m{\u001B[39;00mmodule\u001B[38;5;241m.\u001B[39m__version__\u001B[38;5;132;01m}\u001B[39;00m\u001B[38;5;124m\"\u001B[39m)\n",
      "File \u001B[1;32mC:\\Program Files\\WindowsApps\\PythonSoftwareFoundation.Python.3.11_3.11.2544.0_x64__qbz5n2kfra8p0\\Lib\\importlib\\__init__.py:126\u001B[0m, in \u001B[0;36mimport_module\u001B[1;34m(name, package)\u001B[0m\n\u001B[0;32m    124\u001B[0m             \u001B[38;5;28;01mbreak\u001B[39;00m\n\u001B[0;32m    125\u001B[0m         level \u001B[38;5;241m+\u001B[39m\u001B[38;5;241m=\u001B[39m \u001B[38;5;241m1\u001B[39m\n\u001B[1;32m--> 126\u001B[0m \u001B[38;5;28;01mreturn\u001B[39;00m \u001B[43m_bootstrap\u001B[49m\u001B[38;5;241;43m.\u001B[39;49m\u001B[43m_gcd_import\u001B[49m\u001B[43m(\u001B[49m\u001B[43mname\u001B[49m\u001B[43m[\u001B[49m\u001B[43mlevel\u001B[49m\u001B[43m:\u001B[49m\u001B[43m]\u001B[49m\u001B[43m,\u001B[49m\u001B[43m \u001B[49m\u001B[43mpackage\u001B[49m\u001B[43m,\u001B[49m\u001B[43m \u001B[49m\u001B[43mlevel\u001B[49m\u001B[43m)\u001B[49m\n",
      "File \u001B[1;32m~\\AppData\\Local\\Packages\\PythonSoftwareFoundation.Python.3.11_qbz5n2kfra8p0\\LocalCache\\local-packages\\Python311\\site-packages\\kiwisolver\\__init__.py:8\u001B[0m\n\u001B[0;32m      1\u001B[0m \u001B[38;5;66;03m# --------------------------------------------------------------------------------------\u001B[39;00m\n\u001B[0;32m      2\u001B[0m \u001B[38;5;66;03m# Copyright (c) 2013-2024, Nucleic Development Team.\u001B[39;00m\n\u001B[0;32m      3\u001B[0m \u001B[38;5;66;03m#\u001B[39;00m\n\u001B[1;32m   (...)\u001B[0m\n\u001B[0;32m      6\u001B[0m \u001B[38;5;66;03m# The full license is in the file LICENSE, distributed with this software.\u001B[39;00m\n\u001B[0;32m      7\u001B[0m \u001B[38;5;66;03m# --------------------------------------------------------------------------------------\u001B[39;00m\n\u001B[1;32m----> 8\u001B[0m \u001B[38;5;28;01mfrom\u001B[39;00m \u001B[38;5;21;01m.\u001B[39;00m\u001B[38;5;21;01m_cext\u001B[39;00m \u001B[38;5;28;01mimport\u001B[39;00m (\n\u001B[0;32m      9\u001B[0m     Constraint,\n\u001B[0;32m     10\u001B[0m     Expression,\n\u001B[0;32m     11\u001B[0m     Solver,\n\u001B[0;32m     12\u001B[0m     Term,\n\u001B[0;32m     13\u001B[0m     Variable,\n\u001B[0;32m     14\u001B[0m     __kiwi_version__,\n\u001B[0;32m     15\u001B[0m     __version__,\n\u001B[0;32m     16\u001B[0m     strength,\n\u001B[0;32m     17\u001B[0m )\n\u001B[0;32m     18\u001B[0m \u001B[38;5;28;01mfrom\u001B[39;00m \u001B[38;5;21;01m.\u001B[39;00m\u001B[38;5;21;01mexceptions\u001B[39;00m \u001B[38;5;28;01mimport\u001B[39;00m (\n\u001B[0;32m     19\u001B[0m     BadRequiredStrength,\n\u001B[0;32m     20\u001B[0m     DuplicateConstraint,\n\u001B[1;32m   (...)\u001B[0m\n\u001B[0;32m     24\u001B[0m     UnsatisfiableConstraint,\n\u001B[0;32m     25\u001B[0m )\n\u001B[0;32m     27\u001B[0m __all__ \u001B[38;5;241m=\u001B[39m [\n\u001B[0;32m     28\u001B[0m     \u001B[38;5;124m\"\u001B[39m\u001B[38;5;124mBadRequiredStrength\u001B[39m\u001B[38;5;124m\"\u001B[39m,\n\u001B[0;32m     29\u001B[0m     \u001B[38;5;124m\"\u001B[39m\u001B[38;5;124mDuplicateConstraint\u001B[39m\u001B[38;5;124m\"\u001B[39m,\n\u001B[1;32m   (...)\u001B[0m\n\u001B[0;32m     41\u001B[0m     \u001B[38;5;124m\"\u001B[39m\u001B[38;5;124m__kiwi_version__\u001B[39m\u001B[38;5;124m\"\u001B[39m,\n\u001B[0;32m     42\u001B[0m ]\n",
      "\u001B[1;31mImportError\u001B[0m: DLL load failed while importing _cext: Le module spécifié est introuvable."
     ]
    }
   ],
   "execution_count": 12
  },
  {
   "metadata": {
    "ExecuteTime": {
     "end_time": "2024-12-24T21:25:31.657820Z",
     "start_time": "2024-12-24T21:20:35.672400Z"
    }
   },
   "cell_type": "code",
   "source": "!pip uninstall kiwisolver",
   "id": "e6b4e3176e968134",
   "outputs": [
    {
     "name": "stdout",
     "output_type": "stream",
     "text": [
      "^C\n"
     ]
    }
   ],
   "execution_count": 7
  },
  {
   "metadata": {
    "ExecuteTime": {
     "end_time": "2024-12-24T21:25:37.080539Z",
     "start_time": "2024-12-24T21:25:34.982557Z"
    }
   },
   "cell_type": "code",
   "source": "!pip install kiwisolver",
   "id": "1e1a225ef18f20d0",
   "outputs": [
    {
     "name": "stdout",
     "output_type": "stream",
     "text": [
      "Requirement already satisfied: kiwisolver in c:\\users\\fatou\\appdata\\local\\packages\\pythonsoftwarefoundation.python.3.11_qbz5n2kfra8p0\\localcache\\local-packages\\python311\\site-packages (1.4.7)\n"
     ]
    }
   ],
   "execution_count": 8
  },
  {
   "metadata": {
    "ExecuteTime": {
     "end_time": "2024-12-24T21:27:15.694424Z",
     "start_time": "2024-12-24T21:27:12.589067Z"
    }
   },
   "cell_type": "code",
   "source": [
    "!pip uninstall matplotlib\n",
    "!pip install matplotlib"
   ],
   "id": "39a073da89bdc94",
   "outputs": [
    {
     "name": "stdout",
     "output_type": "stream",
     "text": [
      "^C\n",
      "Requirement already satisfied: matplotlib in c:\\users\\fatou\\appdata\\local\\packages\\pythonsoftwarefoundation.python.3.11_qbz5n2kfra8p0\\localcache\\local-packages\\python311\\site-packages (3.10.0)\n",
      "Requirement already satisfied: contourpy>=1.0.1 in c:\\users\\fatou\\appdata\\local\\packages\\pythonsoftwarefoundation.python.3.11_qbz5n2kfra8p0\\localcache\\local-packages\\python311\\site-packages (from matplotlib) (1.3.1)\n",
      "Requirement already satisfied: cycler>=0.10 in c:\\users\\fatou\\appdata\\local\\packages\\pythonsoftwarefoundation.python.3.11_qbz5n2kfra8p0\\localcache\\local-packages\\python311\\site-packages (from matplotlib) (0.12.1)\n",
      "Requirement already satisfied: fonttools>=4.22.0 in c:\\users\\fatou\\appdata\\local\\packages\\pythonsoftwarefoundation.python.3.11_qbz5n2kfra8p0\\localcache\\local-packages\\python311\\site-packages (from matplotlib) (4.55.3)\n",
      "Requirement already satisfied: kiwisolver>=1.3.1 in c:\\users\\fatou\\appdata\\local\\packages\\pythonsoftwarefoundation.python.3.11_qbz5n2kfra8p0\\localcache\\local-packages\\python311\\site-packages (from matplotlib) (1.4.7)\n",
      "Requirement already satisfied: numpy>=1.23 in c:\\users\\fatou\\appdata\\local\\packages\\pythonsoftwarefoundation.python.3.11_qbz5n2kfra8p0\\localcache\\local-packages\\python311\\site-packages (from matplotlib) (2.2.0)\n",
      "Requirement already satisfied: packaging>=20.0 in c:\\users\\fatou\\appdata\\local\\packages\\pythonsoftwarefoundation.python.3.11_qbz5n2kfra8p0\\localcache\\local-packages\\python311\\site-packages (from matplotlib) (24.2)\n",
      "Requirement already satisfied: pillow>=8 in c:\\users\\fatou\\appdata\\local\\packages\\pythonsoftwarefoundation.python.3.11_qbz5n2kfra8p0\\localcache\\local-packages\\python311\\site-packages (from matplotlib) (11.0.0)\n",
      "Requirement already satisfied: pyparsing>=2.3.1 in c:\\users\\fatou\\appdata\\local\\packages\\pythonsoftwarefoundation.python.3.11_qbz5n2kfra8p0\\localcache\\local-packages\\python311\\site-packages (from matplotlib) (3.2.0)\n",
      "Requirement already satisfied: python-dateutil>=2.7 in c:\\users\\fatou\\appdata\\local\\packages\\pythonsoftwarefoundation.python.3.11_qbz5n2kfra8p0\\localcache\\local-packages\\python311\\site-packages (from matplotlib) (2.9.0.post0)\n",
      "Requirement already satisfied: six>=1.5 in c:\\users\\fatou\\appdata\\local\\packages\\pythonsoftwarefoundation.python.3.11_qbz5n2kfra8p0\\localcache\\local-packages\\python311\\site-packages (from python-dateutil>=2.7->matplotlib) (1.17.0)\n"
     ]
    }
   ],
   "execution_count": 11
  },
  {
   "cell_type": "raw",
   "id": "afcc8012",
   "metadata": {},
   "source": ""
  },
  {
   "cell_type": "markdown",
   "id": "1e6c87b7",
   "metadata": {},
   "source": [
    "- Convertir le fichier en turtle"
   ]
  },
  {
   "cell_type": "raw",
   "id": "1e0adc77",
   "metadata": {},
   "source": [
    "# Sérialisez le graphe au format Turtle et sauvegardez-le dans un fichier\n",
    "g.serialize(destination=\"votre_fichier.ttl\", format=\"turtle\")\n"
   ]
  },
  {
   "cell_type": "raw",
   "id": "8fc44af5",
   "metadata": {},
   "source": [
    "import rdflib\n",
    "import networkx as nx\n",
    "import matplotlib.pyplot as plt\n",
    "\n",
    "# Création du graphe\n",
    "G = nx.Graph()\n",
    "\n",
    "# Chargement des données RDF\n",
    "g = rdflib.Graph()\n",
    "g.parse(\"votre_fichier.ttl\", format=\"turtle\")\n",
    "\n",
    "# Parcours des triplets RDF et ajout au graphe NetworkX\n",
    "for s, p, o in g:\n",
    "    G.add_node(s)\n",
    "    G.add_node(o)\n",
    "    G.add_edge(s, o)\n",
    "    \n",
    " # Dessin du graphe\n",
    "pos = nx.spring_layout(G)  # Dispose les nœuds avec l'algorithme de disposition Spring\n",
    "nx.draw(G, pos, with_labels=True, node_size=200, node_color='lightblue', font_size=8)\n",
    "plt.show()\n"
   ]
  },
  {
   "cell_type": "markdown",
   "id": "b4c034dc",
   "metadata": {},
   "source": [
    "## Exercice 2 : Génération de graphe RDF\n"
   ]
  },
  {
   "cell_type": "markdown",
   "id": "6cd27658",
   "metadata": {},
   "source": [
    "- En utilisant un modèle de langage large (LLM) comme ChatGPT, vous allez générer de nouveaux triplets RDF que vous ajouterez au graphe RDF précédent. Ces nouveaux triplets porteront sur d'autres séries (au moins 3) et devront comporter des informations sur :\n",
    "\n",
    "    - Titre, Année de sortie (de 2022 à 2024), Genre \n",
    "    - Résumé \n",
    "    - Nombre de saisons\n",
    "    - Acteurs\n",
    "    - Évaluation : un score pour évaluer la popularité de la série\n",
    "    - Réalisateur, Langue, Date de diffusion "
   ]
  },
  {
   "cell_type": "code",
   "execution_count": null,
   "id": "4c782686",
   "metadata": {},
   "outputs": [],
   "source": []
  }
 ],
 "metadata": {
  "kernelspec": {
   "display_name": "Python 3 (ipykernel)",
   "language": "python",
   "name": "python3"
  },
  "language_info": {
   "codemirror_mode": {
    "name": "ipython",
    "version": 3
   },
   "file_extension": ".py",
   "mimetype": "text/x-python",
   "name": "python",
   "nbconvert_exporter": "python",
   "pygments_lexer": "ipython3",
   "version": "3.10.9"
  }
 },
 "nbformat": 4,
 "nbformat_minor": 5
}
