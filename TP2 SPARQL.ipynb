{
 "cells": [
  {
   "cell_type": "markdown",
   "id": "d45eba68",
   "metadata": {},
   "source": [
    "# Excercice 1 : Requêtes SPARQL sur DBpedia"
   ]
  },
  {
   "cell_type": "markdown",
   "id": "b59d0b95",
   "metadata": {},
   "source": [
    "1. Données DBPedia\n",
    "    - HTML : http://dbpedia.org\n",
    "    - SPARQL endpoint : http://dbpedia.org/sparql ou http://yasgui.org\n",
    "    - Téléchargements des données RDF : http://wiki.dbpedia.org/Datasets\n",
    "    - Consulter les classes : http://mappings.dbpedia.org/server/ontology/classes/\n",
    "    - Chapitre francophone de DBpedia : http://fr.dbpedia.org\n",
    "    - Accès aux différentes classes : http://mappings.dbpedia.org/server/ontology/classes/\n",
    "    - Exemple de classe : Work\n",
    "        - Au format HTML : http://dbpedia.org/ontology/Work\n",
    "        - Au format RDF : http://dbpedia.org/data3/Work.ntriples\n",
    "\n",
    "    - Vous pouvez consulter les différentes classes de l’ontologie DBpedia : http://mappings.dbpedia.org/server/ontology/classes/\n",
    "    - Vous allez prendre un exemple de dbpedia sur les oeuvres. Vous allez sur le lien suivant : http://dbpedia.org/ontology/Work.\n",
    "\n",
    "2. Import des bibliothèques : Vous aller utiliser des bibliothèques telles que SPARQLWrapper pour interagir avec des points d'accès SparQL à partir de votre code Python."
   ]
  },
  {
   "metadata": {
    "ExecuteTime": {
     "end_time": "2024-12-24T15:27:05.578630Z",
     "start_time": "2024-12-24T15:27:03.100906Z"
    }
   },
   "cell_type": "code",
   "source": "!pip install SPARQLWrapper",
   "id": "93ef03d9cce35df0",
   "outputs": [
    {
     "name": "stderr",
     "output_type": "stream",
     "text": [
      "  WARNING: The script rqw.exe is installed in 'C:\\Users\\Fatou\\AppData\\Local\\Packages\\PythonSoftwareFoundation.Python.3.11_qbz5n2kfra8p0\\LocalCache\\local-packages\\Python311\\Scripts' which is not on PATH.\n",
      "  Consider adding this directory to PATH or, if you prefer to suppress this warning, use --no-warn-script-location.\n"
     ]
    },
    {
     "name": "stdout",
     "output_type": "stream",
     "text": [
      "Collecting SPARQLWrapper\n",
      "  Downloading SPARQLWrapper-2.0.0-py3-none-any.whl.metadata (2.0 kB)\n",
      "Requirement already satisfied: rdflib>=6.1.1 in c:\\users\\fatou\\appdata\\local\\packages\\pythonsoftwarefoundation.python.3.11_qbz5n2kfra8p0\\localcache\\local-packages\\python311\\site-packages (from SPARQLWrapper) (7.1.1)\n",
      "Requirement already satisfied: pyparsing<4,>=2.1.0 in c:\\users\\fatou\\appdata\\local\\packages\\pythonsoftwarefoundation.python.3.11_qbz5n2kfra8p0\\localcache\\local-packages\\python311\\site-packages (from rdflib>=6.1.1->SPARQLWrapper) (3.2.0)\n",
      "Downloading SPARQLWrapper-2.0.0-py3-none-any.whl (28 kB)\n",
      "Installing collected packages: SPARQLWrapper\n",
      "Successfully installed SPARQLWrapper-2.0.0\n"
     ]
    }
   ],
   "execution_count": 1
  },
  {
   "cell_type": "raw",
   "id": "ba3e9882",
   "metadata": {},
   "source": ""
  },
  {
   "metadata": {},
   "cell_type": "markdown",
   "source": "",
   "id": "4fdf92428d41742f"
  },
  {
   "cell_type": "markdown",
   "id": "8c057b6a",
   "metadata": {},
   "source": [
    "3. Les préfixes les plus courants que DBpedia positionne par défaut :\n",
    "    - rdf: http://www.w3.org/1999/02/22-rdf-syntax-ns#\n",
    "    - rdfs: http://www.w3.org/2000/01/rdf-schema#\n",
    "    - owl: http://www.w3.org/2002/07/owl#\n",
    "    - xsd: http://www.w3.org/2001/XMLSchema#\n",
    "    - dc: http://purl.org/dc/elements/1.1/\n",
    "    - foaf: http://xmlns.com/foaf/0.1/\n",
    "    - dbpedia: http://dbpedia.org/resource\n",
    "    - dbpedia-owl: http://dbpedia.org/ontology/\n",
    "    - dbpprop: http://dbpedia.org/property/\n",
    "    - dbr: <http://dbpedia.org/resource/>\n",
    "    - dbo: <http://dbpedia.org/ontology/>"
   ]
  },
  {
   "cell_type": "markdown",
   "id": "b81653f3",
   "metadata": {},
   "source": [
    "4. Requêtes SPARQL \n",
    "- Vous allez parcourir les propriétés de la ressource : http://dbpedia.org/resource/Armageddon_(1998_film).\n",
    "- Tester l'exemple suivant et expliquer ce que retourne la requête "
   ]
  },
  {
   "cell_type": "raw",
   "id": "66748034",
   "metadata": {},
   "source": [
    "from SPARQLWrapper import SPARQLWrapper, JSON\n",
    "\n",
    "# URL du point d'accès SparQL de la DBpedia\n",
    "dbpedia_sparql_endpoint = \"http://dbpedia.org/sparql\"\n",
    "\n",
    "# Création d'une instance de SPARQLWrapper \n",
    "sparql = SPARQLWrapper(dbpedia_sparql_endpoint)\n",
    "\n",
    "# Requête SPARQL\n",
    "query = \"\"\"\n",
    "PREFIX rdf: <http://www.w3.org/1999/02/22-rdf-syntax-ns#>\n",
    "PREFIX rdfs: <http://www.w3.org/2000/01/rdf-schema#>\n",
    "\n",
    "\n",
    "SELECT ?titre\n",
    "WHERE {  <http://dbpedia.org/resource/Armageddon_(1998_film)> rdfs:label ?titre. \n",
    "\n",
    "  }\n",
    "LIMIT 100\n",
    "\"\"\"\n",
    "\n",
    "# Format de résultat en JSON\n",
    "sparql.setReturnFormat(JSON)\n",
    "\n",
    "\n",
    "# Exécution de la requête  \n",
    "sparql.setQuery(query)\n",
    "results = sparql.query().convert()\n",
    "\n",
    "# Affichage des résultats\n",
    "for result in results[\"results\"][\"bindings\"]:\n",
    "    titre = result[\"titre\"][\"value\"]\n",
    "    \n",
    "    \n",
    "    print(f\"  titre : {titre}\")"
   ]
  },
  {
   "cell_type": "markdown",
   "id": "4e28801a",
   "metadata": {},
   "source": [
    "- Modifier la requête afin de déterminer les résumés (abstract) des différents films Armageddon. Vous pouvez tester vos requêtes directement sur  http://yasgui.org"
   ]
  },
  {
   "cell_type": "code",
   "execution_count": null,
   "id": "f0221764",
   "metadata": {},
   "outputs": [],
   "source": []
  },
  {
   "cell_type": "markdown",
   "id": "5e355aca",
   "metadata": {},
   "source": [
    "- Reprendre la requête précédente et déterminer tous les résumés en français (indice : penser à l’utilisation de méthodes)"
   ]
  },
  {
   "cell_type": "code",
   "execution_count": null,
   "id": "1b3f1006",
   "metadata": {},
   "outputs": [],
   "source": []
  },
  {
   "cell_type": "markdown",
   "id": "9ed3f29d",
   "metadata": {},
   "source": [
    "- Déterminer les acteurs du film triés par ordre descendant"
   ]
  },
  {
   "cell_type": "code",
   "execution_count": null,
   "id": "6b4b6de6",
   "metadata": {},
   "outputs": [],
   "source": []
  },
  {
   "cell_type": "markdown",
   "id": "d37ff9fc",
   "metadata": {},
   "source": [
    "- Déterminer le nombre d’acteurs nés avant 1956"
   ]
  },
  {
   "cell_type": "code",
   "execution_count": null,
   "id": "759afd35",
   "metadata": {},
   "outputs": [],
   "source": []
  },
  {
   "cell_type": "markdown",
   "id": "793a1af2",
   "metadata": {},
   "source": [
    "- En parcourant les ressources dbo:person, artist et actor, déterminer les acteurs qui ont joué dans plus de 50 films"
   ]
  },
  {
   "cell_type": "code",
   "execution_count": null,
   "id": "7782a1b5",
   "metadata": {},
   "outputs": [],
   "source": []
  },
  {
   "cell_type": "markdown",
   "id": "6789cade",
   "metadata": {},
   "source": [
    "- Déterminer tous les acteurs nés à Paris ou Londres."
   ]
  },
  {
   "cell_type": "code",
   "execution_count": null,
   "id": "e6c89422",
   "metadata": {},
   "outputs": [],
   "source": []
  },
  {
   "cell_type": "markdown",
   "id": "df770397",
   "metadata": {},
   "source": [
    "# Excercice 2 : SPARQL sur le graphe des séries"
   ]
  },
  {
   "cell_type": "markdown",
   "id": "854d3bbd",
   "metadata": {},
   "source": [
    "- Tester la requête SPARQL suivante :"
   ]
  },
  {
   "cell_type": "raw",
   "id": "32be19a8",
   "metadata": {},
   "source": [
    "# Définition d'une requête\n",
    "query = \"\"\"\n",
    "    PREFIX ex: <http://example.org/stuff/1.0/>\n",
    "    SELECT ?tome \n",
    "    WHERE {\n",
    "       ?x rdf:_1 ?tome.\n",
    "    }\n",
    "\"\"\"\n",
    "\n",
    "# Exécution de la requête\n",
    "results = g.query(query)\n",
    "\n",
    "for result in results:\n",
    "    print(f\"Theme: {result.tome}\")"
   ]
  },
  {
   "cell_type": "markdown",
   "id": "6d5af4e6",
   "metadata": {},
   "source": [
    "- Déterminer les acteurs de toutes les séries"
   ]
  },
  {
   "cell_type": "code",
   "execution_count": null,
   "id": "712ba053",
   "metadata": {},
   "outputs": [],
   "source": []
  },
  {
   "cell_type": "markdown",
   "id": "949f733e",
   "metadata": {},
   "source": [
    "- Triez les séries par date"
   ]
  },
  {
   "cell_type": "code",
   "execution_count": null,
   "id": "df7d5324",
   "metadata": {},
   "outputs": [],
   "source": []
  },
  {
   "cell_type": "markdown",
   "id": "31764bf8",
   "metadata": {},
   "source": [
    "- Déterminer toutes les séries sorties après 2022"
   ]
  },
  {
   "cell_type": "code",
   "execution_count": null,
   "id": "3635a1f5",
   "metadata": {},
   "outputs": [],
   "source": []
  },
  {
   "cell_type": "markdown",
   "id": "d2c96f3d",
   "metadata": {},
   "source": [
    "- Déterminer le nombre de séries"
   ]
  },
  {
   "cell_type": "code",
   "execution_count": null,
   "id": "73b66686",
   "metadata": {},
   "outputs": [],
   "source": []
  },
  {
   "cell_type": "markdown",
   "id": "977d038c",
   "metadata": {},
   "source": [
    "- Déterminer les séries qui sont sorties après 2022, ayant des acteurs qui ont joué dans au moins 2 séries"
   ]
  },
  {
   "cell_type": "code",
   "execution_count": null,
   "id": "25f4fea9",
   "metadata": {},
   "outputs": [],
   "source": []
  }
 ],
 "metadata": {
  "kernelspec": {
   "display_name": "Python 3 (ipykernel)",
   "language": "python",
   "name": "python3"
  },
  "language_info": {
   "codemirror_mode": {
    "name": "ipython",
    "version": 3
   },
   "file_extension": ".py",
   "mimetype": "text/x-python",
   "name": "python",
   "nbconvert_exporter": "python",
   "pygments_lexer": "ipython3",
   "version": "3.10.9"
  }
 },
 "nbformat": 4,
 "nbformat_minor": 5
}
